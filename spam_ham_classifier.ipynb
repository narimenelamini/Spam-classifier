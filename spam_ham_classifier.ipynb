{
 "cells": [
  {
   "cell_type": "markdown",
   "id": "b9a76b21",
   "metadata": {},
   "source": [
    "# Module : Apprentissage Autmatique et Réseaux de Neurones\n",
    " ## Projet : Implémentation  d'un détecteur de spam"
   ]
  },
  {
   "cell_type": "markdown",
   "id": "b718d913",
   "metadata": {},
   "source": [
    "### Réalisé par :\n",
    "     - LAMINI Narimene 181831043933\n",
    "     - GUETTAF Sarah 181831043933\n",
    "###### Section : MASTER 1 SII    - Groupe : 04"
   ]
  },
  {
   "cell_type": "markdown",
   "id": "ec28ac30",
   "metadata": {},
   "source": [
    "# Importation des librairies necessaires au travail"
   ]
  },
  {
   "cell_type": "code",
   "execution_count": 32,
   "id": "94ccd792",
   "metadata": {},
   "outputs": [],
   "source": [
    "import re\n",
    "from string import punctuation\n",
    "from nltk.stem.snowball import SnowballStemmer\n",
    "from sklearn.metrics import classification_report\n",
    "from scipy.io import loadmat\n",
    "import numpy as np\n",
    "import matplotlib.pyplot as plt\n",
    "from sklearn.metrics import confusion_matrix\n",
    "from sklearn.metrics import plot_confusion_matrix\n",
    " from sklearn.metrics import roc_curve, auc"
   ]
  },
  {
   "cell_type": "markdown",
   "id": "29511cc5",
   "metadata": {},
   "source": [
    "# Étape 1 : Préparation des données\n",
    "Dans cette étape, nous allons nettoyer nos e-mails avant de commencer la classification. pour ce faire, nous devrions:\n",
    "- Transformer toutes les lettre de l-email en minscule\n",
    "- Supprimer toutes les balises HTML\n",
    "- Normaliser toutes les URLs en les remplaçant par le texte \"httpaddr\"\n",
    "- Normaliser toutes les adresses email en les remplaçant par le texte \"emailaddr\"\n",
    "- Normaliser tous les nombres en les remplaçant par le texte \"number\" \n",
    "- Normaliser tous les signe de dollar en les remplaçant par le texte \"dollar\" \n",
    "- Radicaliser les mots\n",
    "- Supprimer les non-mots\n",
    "\n",
    "\n",
    "Pour montrer ce processus de nettoyage, nous allons prendre l'exemple de l'email donné dans l'ennoncé du projet\n"
   ]
  },
  {
   "cell_type": "markdown",
   "id": "ac2bbf05",
   "metadata": {},
   "source": [
    "## 1.1 Lecture de l'email"
   ]
  },
  {
   "cell_type": "code",
   "execution_count": 33,
   "id": "a1500627",
   "metadata": {},
   "outputs": [
    {
     "data": {
      "text/plain": [
       "\"> Anyone knows how much it costs to host a web portal ?\\n>\\nWell, it depends on how many visitors you're expecting.\\nThis can be anywhere from less than 10 bucks a month to a couple of $100. \\nYou should checkout http://www.rackspace.com/ or perhaps Amazon EC2 \\nif youre running something big..\\n\\nTo unsubscribe yourself from this mailing list, send an email to:\\ngroupname-unsubscribe@egroups.com\""
      ]
     },
     "execution_count": 33,
     "metadata": {},
     "output_type": "execute_result"
    }
   ],
   "source": [
    "with open('emailSample1.txt', 'r') as email:\n",
    "    file_contents = email.read()\n",
    "\n",
    "file_contents"
   ]
  },
  {
   "cell_type": "markdown",
   "id": "41d315a8",
   "metadata": {},
   "source": [
    "## 1.2 Création du dictionnaire des mots de l'email"
   ]
  },
  {
   "cell_type": "code",
   "execution_count": 34,
   "id": "81d82545",
   "metadata": {},
   "outputs": [],
   "source": [
    "# cette fonction lit la liste des vocabulaire \"vocabList\" et la stock dans un dictionnaire\n",
    "def getVocabList():\n",
    "    with open('vocab.txt', 'r') as vocab:\n",
    "        #sauvegarder tous les mots dans un dictionaire \"vocabList\"\n",
    "        vocabList = {}\n",
    "        for line in vocab.readlines():\n",
    "            i, word = line.split()\n",
    "            vocabList[word] = int(i)\n",
    "    return vocabList"
   ]
  },
  {
   "cell_type": "markdown",
   "id": "d97a44da",
   "metadata": {},
   "source": [
    "## 1.3 Prétraitement de l'email\n",
    "Cette fonction prétraite le corps d'un email"
   ]
  },
  {
   "cell_type": "code",
   "execution_count": 35,
   "id": "0ec7478b",
   "metadata": {},
   "outputs": [],
   "source": [
    "def processEmail(email_contents):\n",
    "   \n",
    "    vocabList = getVocabList()\n",
    "\n",
    "    # Initialiser un tableau des indices des mots de l'email\n",
    "    word_indices = []\n",
    "    \n",
    "    # prétraitement de l'email\n",
    "    #Transformer toutes les lettre de l-email en minscule\n",
    "    email_contents = email_contents.lower()\n",
    "\n",
    "    #Supprimer toutes les balises HTML\n",
    "    email_contents = re.sub('<[^<>]+>', ' ', email_contents)\n",
    "\n",
    "    #Normaliser tous les nombres en les remplaçant par le texte \"number\" \n",
    "    email_contents = re.sub('[0-9]+', 'number', email_contents)\n",
    "\n",
    "    # Normaliser toutes les URLs en les remplaçant par le texte \"httpaddr\"\n",
    "    email_contents = re.sub('(http|https)://[^\\s]*', 'httpaddr', email_contents)\n",
    "\n",
    "    # Normaliser toutes les adresses email en les remplaçant par le texte \"emailaddr\"\n",
    "    email_contents = re.sub('[^\\s]+@[^\\s]+', 'emailaddr', email_contents)\n",
    "\n",
    "    # Normaliser tous les signes de dollar en les remplaçant par le texte \"dollar\" \n",
    "    email_contents = re.sub('[$]+', 'dollar', email_contents)\n",
    "\n",
    "    # Affichage de l'email\n",
    "    print('\\nEmail aprèes le prétraitement\\n')\n",
    "\n",
    "    # Process file\n",
    "    l = 0\n",
    "    email_contents = email_contents.translate(str.maketrans('', '', punctuation))\n",
    "\n",
    "    # faire diviser l'email en mots séparés\n",
    "    email_contents = email_contents.split()\n",
    "\n",
    "    for token in email_contents:\n",
    "\n",
    "        # supprimer les caractères non numériques\n",
    "        token = re.sub('[^a-zA-Z0-9]', '', token)\n",
    "        stemmer = SnowballStemmer(\"english\")\n",
    "        token = stemmer.stem(token.strip())\n",
    "        if len(token) < 1:\n",
    "           continue\n",
    "        \n",
    " #vérifier l'existance du mot dans le dictionnaire et l'ajouter à la liste word_indices s'il existe \n",
    "        \n",
    "        if token in vocabList:\n",
    "            idx = vocabList[token]\n",
    "            word_indices.append(idx)\n",
    "\n",
    "        # Print to screen, ensuring that the output lines are not too long.\n",
    "        if l + len(token) + 1 > 78:\n",
    "            print()\n",
    "            l = 0\n",
    "        print(token, end=' ')\n",
    "        l = l + len(token) + 1\n",
    "\n",
    "    return word_indices"
   ]
  },
  {
   "cell_type": "markdown",
   "id": "121ef754",
   "metadata": {},
   "source": [
    "## 1.4 Affichage de l'email après prétraitement"
   ]
  },
  {
   "cell_type": "code",
   "execution_count": 36,
   "id": "e9fc7be4",
   "metadata": {},
   "outputs": [
    {
     "name": "stdout",
     "output_type": "stream",
     "text": [
      "\n",
      "Email aprèes le prétraitement\n",
      "\n",
      "anyon know how much it cost to host a web portal well it depend on how mani \n",
      "visitor your expect this can be anywher from less than number buck a month to \n",
      "a coupl of dollarnumb you should checkout httpaddr or perhap amazon ecnumb if \n",
      "your run someth big to unsubscrib yourself from this mail list send an email \n",
      "to emailaddr "
     ]
    }
   ],
   "source": [
    "word_indices = processEmail(file_contents)"
   ]
  },
  {
   "cell_type": "code",
   "execution_count": 37,
   "id": "3eaa3a9e",
   "metadata": {},
   "outputs": [
    {
     "name": "stdout",
     "output_type": "stream",
     "text": [
      "\n",
      "\n",
      "Les Indices des mots de l email: \n",
      "\n",
      "[86, 916, 794, 1077, 883, 370, 1699, 790, 1822, 1831, 883, 431, 1171, 794, 1002, 1895, 592, 238, 162, 89, 688, 945, 1663, 1120, 1062, 1699, 375, 1162, 479, 1893, 1510, 799, 1182, 1237, 810, 1895, 1440, 1547, 181, 1699, 1758, 1896, 688, 992, 961, 1477, 71, 530, 1699, 531] \n",
      "\n",
      "\n"
     ]
    }
   ],
   "source": [
    "print('\\n\\nLes Indices des mots de l email: \\n')\n",
    "print(word_indices,\"\\n\\n\")"
   ]
  },
  {
   "cell_type": "markdown",
   "id": "45e98fce",
   "metadata": {},
   "source": [
    "# Étape 2 : Classification\n",
    "Dans cette étape, nous allons étudier tous les classifieurs appris durant ce semestre, notamment :\n",
    "- La regression linéaire\n",
    "- La regression logistique\n",
    "- Les réseaux de neurones\n",
    "- Machine à vecteurs de support\n",
    "- L'algorithme des k moyennes\n",
    "- L'algorithme des k plus proches voisins\n",
    "- Bayes naif\n",
    "\n",
    "Nous allons de plus exploiter d'autres classifieurs qui ne sont pas appris durant ce semsetre, tel que:\n",
    "- Les arbres de descision\n",
    "- La foret aléatoire\n"
   ]
  },
  {
   "cell_type": "markdown",
   "id": "7efe60cc",
   "metadata": {},
   "source": [
    "### Lecture de données d'entrainement et de test"
   ]
  },
  {
   "cell_type": "code",
   "execution_count": 38,
   "id": "4fa41457",
   "metadata": {},
   "outputs": [],
   "source": [
    "# Lecture du dataset des emails d'entrainement, spamTrain\n",
    "email_train = loadmat('spamTrain.mat')\n",
    "X = email_train[\"X\"]\n",
    "y = email_train[\"y\"]\n",
    "y = y.ravel()"
   ]
  },
  {
   "cell_type": "code",
   "execution_count": 39,
   "id": "5afaa090",
   "metadata": {},
   "outputs": [
    {
     "name": "stdout",
     "output_type": "stream",
     "text": [
      "X shape =  (4000, 1899)\n",
      "y shape =  (4000,)\n"
     ]
    }
   ],
   "source": [
    "print(\"X shape = \",X.shape)\n",
    "print(\"y shape = \",y.shape)"
   ]
  },
  {
   "cell_type": "code",
   "execution_count": 40,
   "id": "ea0bddb7",
   "metadata": {},
   "outputs": [],
   "source": [
    "# Lecture du dataset des emails de test, spamTest\n",
    "email_test = loadmat('spamTest.mat')\n",
    "Xtest = email_test[\"Xtest\"]\n",
    "ytest = email_test[\"ytest\"]\n",
    "ytest = ytest.ravel()"
   ]
  },
  {
   "cell_type": "code",
   "execution_count": 41,
   "id": "ab21efd9",
   "metadata": {},
   "outputs": [
    {
     "name": "stdout",
     "output_type": "stream",
     "text": [
      "Xtest shape =  (1000, 1899)\n",
      "ytest shape =  (1000,)\n"
     ]
    }
   ],
   "source": [
    "print(\"Xtest shape = \",Xtest.shape)\n",
    "print(\"ytest shape = \",ytest.shape)"
   ]
  },
  {
   "cell_type": "markdown",
   "id": "84fa20dd",
   "metadata": {},
   "source": [
    "### Affichafe des statistiques"
   ]
  },
  {
   "cell_type": "code",
   "execution_count": 42,
   "id": "76fdf1ea",
   "metadata": {},
   "outputs": [],
   "source": [
    "def stat(model,p1,p2):\n",
    "    print(\"\\n============Classification report===========\\n\")\n",
    "    print(classification_report(y, p1))\n",
    "    print(\"\\n============================================\\n\")\n",
    "    print('Test Accuracy: {0:.2f}%'.format(np.mean((p2 == ytest).astype(int)) * 100))\n",
    "    print(\"\\n===============Confusion matrix==============\\n\")\n",
    "    plot_confusion_matrix(model,Xtest,ytest)\n",
    "    plt.show()\n",
    "    "
   ]
  },
  {
   "cell_type": "code",
   "execution_count": 43,
   "id": "7b06c9bf",
   "metadata": {},
   "outputs": [],
   "source": [
    "#cette fonction est utilisée pour l'algorithme des k moyennes\n",
    "def statClustering(p1,p2):\n",
    "    print(\"\\n============Classification report===========\\n\")\n",
    "    print(classification_report(y, p1))\n",
    "    print(\"\\n============================================\\n\")\n",
    "    print('Test Accuracy: {0:.2f}%'.format(np.mean((p2 == ytest).astype(int)) * 100))\n",
    "   "
   ]
  },
  {
   "cell_type": "markdown",
   "id": "265c77aa",
   "metadata": {},
   "source": [
    "### La courbe ROC"
   ]
  },
  {
   "cell_type": "code",
   "execution_count": 56,
   "id": "5474553e",
   "metadata": {},
   "outputs": [],
   "source": [
    "#la courbe ROC\n",
    "def ROCcurve(y_test,y_pred):\n",
    "    fpr = dict()\n",
    "    tpr = dict()\n",
    "    roc_auc = dict()\n",
    "    for i in range(2):\n",
    "        fpr[i], tpr[i], _ = roc_curve(y_test,y_pred)\n",
    "        roc_auc[i] = auc(fpr[i], tpr[i])\n",
    "\n",
    "    plt.figure()\n",
    "    plt.plot(fpr[1], tpr[1])\n",
    "    plt.xlim([0.0, 1.0])\n",
    "    plt.ylim([0.0, 1.05])\n",
    "    plt.xlabel('False Positive Rate')\n",
    "    plt.ylabel('True Positive Rate')\n",
    "    plt.title('Receiver operating characteristic')\n",
    "    plt.show()"
   ]
  },
  {
   "cell_type": "markdown",
   "id": "28fa293b",
   "metadata": {},
   "source": [
    "## Classifieur 01 : La Regression Linéaire (Linear Regression)"
   ]
  },
  {
   "cell_type": "code",
   "execution_count": 44,
   "id": "de8d9dd2",
   "metadata": {},
   "outputs": [
    {
     "name": "stdout",
     "output_type": "stream",
     "text": [
      "Test Accuracy: 0.00%\n"
     ]
    }
   ],
   "source": [
    "from sklearn.linear_model import LinearRegression\n",
    "from sklearn.metrics import classification_report\n",
    "model = LinearRegression()\n",
    "p1 = model.fit(X,y).predict(X)\n",
    "p2 = model.predict(Xtest)\n",
    "print('Test Accuracy: {0:.2f}%'.format(np.mean((p2 == ytest).astype(int)) * 100))\n"
   ]
  },
  {
   "cell_type": "markdown",
   "id": "cb776f30",
   "metadata": {},
   "source": [
    "## Classifieur 02 : La Regression logistique (Logistic Regression)"
   ]
  },
  {
   "cell_type": "code",
   "execution_count": 57,
   "id": "6e800c6c",
   "metadata": {},
   "outputs": [
    {
     "name": "stdout",
     "output_type": "stream",
     "text": [
      "\n",
      "============Classification report===========\n",
      "\n",
      "              precision    recall  f1-score   support\n",
      "\n",
      "           0       1.00      1.00      1.00      2723\n",
      "           1       1.00      1.00      1.00      1277\n",
      "\n",
      "    accuracy                           1.00      4000\n",
      "   macro avg       1.00      1.00      1.00      4000\n",
      "weighted avg       1.00      1.00      1.00      4000\n",
      "\n",
      "\n",
      "============================================\n",
      "\n",
      "Test Accuracy: 99.40%\n",
      "\n",
      "===============Confusion matrix==============\n",
      "\n"
     ]
    },
    {
     "data": {
      "image/png": "[encoded data removed]",
      "text/plain": [
       "<Figure size 432x288 with 2 Axes>"
      ]
     },
     "metadata": {
      "needs_background": "light"
     },
     "output_type": "display_data"
    },
    {
     "data": {
      "image/png": "[encoded data removed]",
      "text/plain": [
       "<Figure size 432x288 with 1 Axes>"
      ]
     },
     "metadata": {
      "needs_background": "light"
     },
     "output_type": "display_data"
    }
   ],
   "source": [
    "from sklearn.linear_model import LogisticRegression \n",
    "model = LogisticRegression()\n",
    "p1 = model.fit(X,y).predict(X)\n",
    "p2 = model.predict(Xtest)\n",
    "stat(model,p1,p2) \n",
    "ROCcurve(ytest,p2)"
   ]
  },
  {
   "cell_type": "markdown",
   "id": "449a8f94",
   "metadata": {},
   "source": [
    "## Classifieur 03 :Les réseaux de neurones"
   ]
  },
  {
   "cell_type": "code",
   "execution_count": 58,
   "id": "19711898",
   "metadata": {},
   "outputs": [
    {
     "name": "stdout",
     "output_type": "stream",
     "text": [
      "\n",
      "============Classification report===========\n",
      "\n",
      "              precision    recall  f1-score   support\n",
      "\n",
      "           0       1.00      1.00      1.00      2723\n",
      "           1       1.00      1.00      1.00      1277\n",
      "\n",
      "    accuracy                           1.00      4000\n",
      "   macro avg       1.00      1.00      1.00      4000\n",
      "weighted avg       1.00      1.00      1.00      4000\n",
      "\n",
      "\n",
      "============================================\n",
      "\n",
      "Test Accuracy: 98.60%\n",
      "\n",
      "===============Confusion matrix==============\n",
      "\n"
     ]
    },
    {
     "data": {
      "image/png": "[encoded data removed]",
      "text/plain": [
       "<Figure size 432x288 with 2 Axes>"
      ]
     },
     "metadata": {
      "needs_background": "light"
     },
     "output_type": "display_data"
    },
    {
     "data": {
      "image/png": "[encoded data removed]",
      "text/plain": [
       "<Figure size 432x288 with 1 Axes>"
      ]
     },
     "metadata": {
      "needs_background": "light"
     },
     "output_type": "display_data"
    }
   ],
   "source": [
    "from sklearn.neural_network import MLPClassifier\n",
    "model = MLPClassifier(solver='lbfgs', alpha=1e-5,hidden_layer_sizes=(5, 2), random_state=1)\n",
    "p1 = model.fit(X,y).predict(X)\n",
    "p2 = model.predict(Xtest)\n",
    "stat(model,p1,p2)\n",
    "ROCcurve(ytest,p2)"
   ]
  },
  {
   "cell_type": "markdown",
   "id": "553826ba",
   "metadata": {},
   "source": [
    "## Classifieur 04 :Machine à vecteurs de support"
   ]
  },
  {
   "cell_type": "code",
   "execution_count": 59,
   "id": "4c6add65",
   "metadata": {},
   "outputs": [
    {
     "name": "stderr",
     "output_type": "stream",
     "text": [
      "D:\\Anaconda\\lib\\site-packages\\sklearn\\utils\\validation.py:70: FutureWarning: Pass C=0.25, kernel=linear as keyword args. From version 1.0 (renaming of 0.25) passing these as positional arguments will result in an error\n",
      "  warnings.warn(f\"Pass {args_msg} as keyword args. From version \"\n"
     ]
    },
    {
     "name": "stdout",
     "output_type": "stream",
     "text": [
      "\n",
      "============Classification report===========\n",
      "\n",
      "              precision    recall  f1-score   support\n",
      "\n",
      "           0       1.00      1.00      1.00      2723\n",
      "           1       1.00      1.00      1.00      1277\n",
      "\n",
      "    accuracy                           1.00      4000\n",
      "   macro avg       1.00      1.00      1.00      4000\n",
      "weighted avg       1.00      1.00      1.00      4000\n",
      "\n",
      "\n",
      "============================================\n",
      "\n",
      "Test Accuracy: 98.20%\n",
      "\n",
      "===============Confusion matrix==============\n",
      "\n"
     ]
    },
    {
     "data": {
      "image/png": "[encoded data removed]",
      "text/plain": [
       "<Figure size 432x288 with 2 Axes>"
      ]
     },
     "metadata": {
      "needs_background": "light"
     },
     "output_type": "display_data"
    },
    {
     "data": {
      "image/png": "[encoded data removed]",
      "text/plain": [
       "<Figure size 432x288 with 1 Axes>"
      ]
     },
     "metadata": {
      "needs_background": "light"
     },
     "output_type": "display_data"
    }
   ],
   "source": [
    "from sklearn import svm\n",
    "C = 0.25\n",
    "model = svm.SVC(C, 'linear')\n",
    "p1 = model.fit(X,y).predict(X)\n",
    "p2 = model.predict(Xtest)\n",
    "stat(model,p1,p2)\n",
    "ROCcurve(ytest,p2)"
   ]
  },
  {
   "cell_type": "markdown",
   "id": "3146ebe2",
   "metadata": {},
   "source": [
    "## Classifieur 05 : L'algorithme k moyennes"
   ]
  },
  {
   "cell_type": "code",
   "execution_count": 60,
   "id": "51430280",
   "metadata": {},
   "outputs": [
    {
     "name": "stdout",
     "output_type": "stream",
     "text": [
      "\n",
      "============Classification report===========\n",
      "\n",
      "              precision    recall  f1-score   support\n",
      "\n",
      "           0       0.60      0.15      0.24      2723\n",
      "           1       0.30      0.79      0.44      1277\n",
      "\n",
      "    accuracy                           0.35      4000\n",
      "   macro avg       0.45      0.47      0.34      4000\n",
      "weighted avg       0.50      0.35      0.30      4000\n",
      "\n",
      "\n",
      "============================================\n",
      "\n",
      "Test Accuracy: 34.50%\n"
     ]
    },
    {
     "data": {
      "image/png": "[encoded data removed]",
      "text/plain": [
       "<Figure size 432x288 with 1 Axes>"
      ]
     },
     "metadata": {
      "needs_background": "light"
     },
     "output_type": "display_data"
    }
   ],
   "source": [
    "from sklearn.cluster import KMeans\n",
    "model = KMeans(n_clusters=2, random_state=0)\n",
    "p1 = model.fit(X).predict(X)\n",
    "p2 = model.predict(Xtest)\n",
    "statClustering(p1,p2)\n",
    "ROCcurve(ytest,p2)\n"
   ]
  },
  {
   "cell_type": "markdown",
   "id": "1a4548b9",
   "metadata": {},
   "source": [
    "## Classifieur 06 : L'algorithme des k plus proches voisins"
   ]
  },
  {
   "cell_type": "code",
   "execution_count": 61,
   "id": "fe0e6525",
   "metadata": {},
   "outputs": [
    {
     "name": "stdout",
     "output_type": "stream",
     "text": [
      "\n",
      "============Classification report===========\n",
      "\n",
      "              precision    recall  f1-score   support\n",
      "\n",
      "           0       0.99      0.92      0.96      2723\n",
      "           1       0.86      0.98      0.91      1277\n",
      "\n",
      "    accuracy                           0.94      4000\n",
      "   macro avg       0.92      0.95      0.93      4000\n",
      "weighted avg       0.95      0.94      0.94      4000\n",
      "\n",
      "\n",
      "============================================\n",
      "\n",
      "Test Accuracy: 89.70%\n",
      "\n",
      "===============Confusion matrix==============\n",
      "\n"
     ]
    },
    {
     "data": {
      "image/png": "[encoded data removed]",
      "text/plain": [
       "<Figure size 432x288 with 2 Axes>"
      ]
     },
     "metadata": {
      "needs_background": "light"
     },
     "output_type": "display_data"
    },
    {
     "data": {
      "image/png": "[encoded data removed]",
      "text/plain": [
       "<Figure size 432x288 with 1 Axes>"
      ]
     },
     "metadata": {
      "needs_background": "light"
     },
     "output_type": "display_data"
    }
   ],
   "source": [
    "from sklearn.neighbors import KNeighborsClassifier\n",
    "model = KNeighborsClassifier(n_neighbors=3)\n",
    "p1 = model.fit(X,y).predict(X)\n",
    "p2 = model.predict(Xtest)\n",
    "stat(model,p1,p2)\n",
    "ROCcurve(ytest,p2)"
   ]
  },
  {
   "cell_type": "markdown",
   "id": "8de0f6d5",
   "metadata": {},
   "source": [
    "## Classifieur 07 : Les arbres de descision"
   ]
  },
  {
   "cell_type": "code",
   "execution_count": 62,
   "id": "8bfc19e0",
   "metadata": {},
   "outputs": [
    {
     "name": "stdout",
     "output_type": "stream",
     "text": [
      "\n",
      "============Classification report===========\n",
      "\n",
      "              precision    recall  f1-score   support\n",
      "\n",
      "           0       0.94      0.96      0.95      2723\n",
      "           1       0.90      0.87      0.89      1277\n",
      "\n",
      "    accuracy                           0.93      4000\n",
      "   macro avg       0.92      0.91      0.92      4000\n",
      "weighted avg       0.93      0.93      0.93      4000\n",
      "\n",
      "\n",
      "============================================\n",
      "\n",
      "Test Accuracy: 92.00%\n",
      "\n",
      "===============Confusion matrix==============\n",
      "\n"
     ]
    },
    {
     "data": {
      "image/png": "[encoded data removed]",
      "text/plain": [
       "<Figure size 432x288 with 2 Axes>"
      ]
     },
     "metadata": {
      "needs_background": "light"
     },
     "output_type": "display_data"
    },
    {
     "data": {
      "image/png": "[encoded data removed]",
      "text/plain": [
       "<Figure size 432x288 with 1 Axes>"
      ]
     },
     "metadata": {
      "needs_background": "light"
     },
     "output_type": "display_data"
    }
   ],
   "source": [
    "from sklearn.tree import DecisionTreeClassifier\n",
    "model = DecisionTreeClassifier(random_state=0, max_depth=5)\n",
    "p1 = model.fit(X,y).predict(X)\n",
    "p2 = model.predict(Xtest)\n",
    "stat(model,p1,p2)\n",
    "ROCcurve(ytest,p2)"
   ]
  },
  {
   "cell_type": "markdown",
   "id": "e5882d59",
   "metadata": {},
   "source": [
    "## Classifieur 08 : La foret aléatoire"
   ]
  },
  {
   "cell_type": "code",
   "execution_count": 63,
   "id": "38bddbb2",
   "metadata": {},
   "outputs": [
    {
     "name": "stdout",
     "output_type": "stream",
     "text": [
      "\n",
      "============Classification report===========\n",
      "\n",
      "              precision    recall  f1-score   support\n",
      "\n",
      "           0       0.83      0.99      0.91      2723\n",
      "           1       0.98      0.58      0.73      1277\n",
      "\n",
      "    accuracy                           0.86      4000\n",
      "   macro avg       0.91      0.79      0.82      4000\n",
      "weighted avg       0.88      0.86      0.85      4000\n",
      "\n",
      "\n",
      "============================================\n",
      "\n",
      "Test Accuracy: 87.00%\n",
      "\n",
      "===============Confusion matrix==============\n",
      "\n"
     ]
    },
    {
     "data": {
      "image/png": "[encoded data removed]",
      "text/plain": [
       "<Figure size 432x288 with 2 Axes>"
      ]
     },
     "metadata": {
      "needs_background": "light"
     },
     "output_type": "display_data"
    },
    {
     "data": {
      "image/png": "[encoded data removed]",
      "text/plain": [
       "<Figure size 432x288 with 1 Axes>"
      ]
     },
     "metadata": {
      "needs_background": "light"
     },
     "output_type": "display_data"
    }
   ],
   "source": [
    " from sklearn.ensemble import RandomForestClassifier\n",
    "model = RandomForestClassifier(max_depth=4, random_state=0)\n",
    "p1 = model.fit(X,y).predict(X)\n",
    "p2 = model.predict(Xtest)\n",
    "stat(model,p1,p2)\n",
    "ROCcurve(ytest,p2)"
   ]
  },
  {
   "cell_type": "markdown",
   "id": "b50c81ed",
   "metadata": {},
   "source": [
    "## Classifieur 09 : Bayes naif"
   ]
  },
  {
   "cell_type": "code",
   "execution_count": 64,
   "id": "447a07de",
   "metadata": {},
   "outputs": [
    {
     "name": "stdout",
     "output_type": "stream",
     "text": [
      "\n",
      "============Classification report===========\n",
      "\n",
      "              precision    recall  f1-score   support\n",
      "\n",
      "           0       0.99      0.79      0.88      2723\n",
      "           1       0.69      0.99      0.81      1277\n",
      "\n",
      "    accuracy                           0.85      4000\n",
      "   macro avg       0.84      0.89      0.85      4000\n",
      "weighted avg       0.90      0.85      0.86      4000\n",
      "\n",
      "\n",
      "============================================\n",
      "\n",
      "Test Accuracy: 87.20%\n",
      "\n",
      "===============Confusion matrix==============\n",
      "\n"
     ]
    },
    {
     "data": {
      "image/png": "[encoded data removed]",
      "text/plain": [
       "<Figure size 432x288 with 2 Axes>"
      ]
     },
     "metadata": {
      "needs_background": "light"
     },
     "output_type": "display_data"
    },
    {
     "data": {
      "image/png": "[encoded data removed]",
      "text/plain": [
       "<Figure size 432x288 with 1 Axes>"
      ]
     },
     "metadata": {
      "needs_background": "light"
     },
     "output_type": "display_data"
    }
   ],
   "source": [
    "from sklearn.naive_bayes import GaussianNB\n",
    "model = GaussianNB()\n",
    "p1 = model.fit(X,y).predict(X)\n",
    "p2 = model.predict(Xtest)\n",
    "stat(model,p1,p2)\n",
    "ROCcurve(ytest,p2)"
   ]
  }
 ],
 "metadata": {
  "kernelspec": {
   "display_name": "Python 3",
   "language": "python",
   "name": "python3"
  },
  "language_info": {
   "codemirror_mode": {
    "name": "ipython",
    "version": 3
   },
   "file_extension": ".py",
   "mimetype": "text/x-python",
   "name": "python",
   "nbconvert_exporter": "python",
   "pygments_lexer": "ipython3",
   "version": "3.8.8"
  }
 },
 "nbformat": 4,
 "nbformat_minor": 5
}
